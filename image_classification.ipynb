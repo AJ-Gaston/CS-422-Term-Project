{
 "cells": [
  {
   "cell_type": "code",
   "execution_count": 3,
   "metadata": {},
   "outputs": [],
   "source": [
    "import numpy as np\n",
    "import cv2\n",
    "\n",
    "#We're using function from image_recognition to process photos\n",
    "# from image_recognition import\n",
    "\n",
    "#This is where the classification and categorization of images will occur\n",
    "data_dir = 'Dataset'\n",
    "train = 'Dataset/training'\n",
    "test = 'Dataset/evaluation'\n",
    "valid = 'Dataset/validation'\n",
    "label_names = ['Bread', 'Dairy Product', 'Dessert', 'Egg', 'Fried Food', 'Meat', 'Noodles-Pasta', 'Rice',\n",
    "               'Seafood', 'Soup', 'Vegetable-Fruit']\n",
    "training_set_size = [10,100, 250, 500, 1000, 5000, 9000]\n",
    "test_set_size = [10, 100, 250, 500, 1000, 2000, 3000]\n",
    "valid_set_size = [10, 100, 250, 500, 1000, 2000, 3000]"
   ]
  },
  {
   "cell_type": "code",
   "execution_count": 4,
   "metadata": {},
   "outputs": [],
   "source": [
    "def train_one_vs_all(X, y, num_classes, lambda_val):\n",
    "    '''\n",
    "    Train a one vs. all logistic regression\n",
    "    \n",
    "    Inputs: \n",
    "      X                data matrix (2d array shape m x n)\n",
    "      y                label vector with entries from 0 to \n",
    "                       num_classes - 1 (1d array length m)\n",
    "      num_classes      number of classes (integer)\n",
    "      lambda_val       regularization parameter (scalar)\n",
    "\n",
    "    Outputs:\n",
    "      weight_vectors   matrix of weight vectors for each class \n",
    "                       weight vector for class c in the cth column\n",
    "                       (2d array shape n x num_classes)\n",
    "      intercepts       vector of intercepts for all classes\n",
    "                       (1d array length num_classes)                       \n",
    "            \n",
    "    '''\n",
    "    #Hint: you may find the vector comparison y == i helpful!\n",
    "    #Y is gonna be some length (between 0-9), so for each class build a new list and go through each possible number.\n",
    "    #Go through the Y list, compare it to the current number and if it matches then make it 1 (if not then a 0). Shove that new number into a new list (that's the same size of Y, but conly composed of 1s and 0s)\n",
    "    weight_vectors = []\n",
    "    intercepts = []"
   ]
  },
  {
   "cell_type": "code",
   "execution_count": 5,
   "metadata": {},
   "outputs": [],
   "source": [
    "def predict_one_vs_all(X, weight_vectors, intercepts):\n",
    "    predictions = []\n",
    "    return predictions"
   ]
  },
  {
   "cell_type": "code",
   "execution_count": 15,
   "metadata": {},
   "outputs": [
    {
     "name": "stdout",
     "output_type": "stream",
     "text": [
      "Found 9866 images belonging to 11 classes.\n",
      "Found 3430 images belonging to 11 classes.\n"
     ]
    }
   ],
   "source": [
    "import os\n",
    "# tensorflow\n",
    "import tensorflow.keras as keras\n",
    "import tensorflow as tf\n",
    "\n",
    "# image processing\n",
    "from tensorflow.keras.preprocessing import image\n",
    "from tensorflow.keras.preprocessing.image import ImageDataGenerator, load_img\n",
    "\n",
    "# model / neural network\n",
    "from tensorflow.keras import layers\n",
    "from tensorflow.keras.models import Sequential, Model\n",
    "from tensorflow.keras.applications import ResNet50\n",
    "from tensorflow.keras.applications.resnet50 import preprocess_input\n",
    "\n",
    "datagen = ImageDataGenerator()\n",
    "train_generator = datagen.flow_from_directory( \n",
    "    directory=train, \n",
    "    classes = label_names,\n",
    "    target_size=(224, 224),  \n",
    "    batch_size=32, \n",
    "    class_mode=\"binary\", \n",
    ")\n",
    "# validation data\n",
    "valid_generator = datagen.flow_from_directory( \n",
    "    directory=valid, \n",
    "    classes = label_names,\n",
    "    target_size=(224, 224), \n",
    "    batch_size=32, \n",
    "    class_mode=\"binary\", \n",
    ")\n",
    "\n",
    "resnet_50 = ResNet50(include_top=False, weights='imagenet', input_shape=(224,224,3))\n",
    "for layer in resnet_50.layers:\n",
    "    layer.trainable = False\n",
    "# build the entire model\n",
    "x = resnet_50.output\n",
    "x = layers.GlobalAveragePooling2D()(x)\n",
    "x = layers.Dense(512, activation='relu')(x) \n",
    "x = layers.Dropout(0.5)(x)\n",
    "x = layers.Dense(256, activation='relu')(x) \n",
    "x = layers.Dropout(0.5)(x)\n",
    "x = layers.Dense(128, activation='relu')(x) \n",
    "x = layers.Dropout(0.5)(x)\n",
    "x = layers.Dense(64, activation='relu')(x) \n",
    "x = layers.Dropout(0.5)(x)\n",
    "predictions = layers.Dense(11, activation='softmax')(x)\n",
    "model = Model(inputs = resnet_50.input, outputs = predictions)\n",
    "\n",
    "# define training function\n",
    "def trainModel(model, epochs, optimizer):\n",
    "    batch_size = 32\n",
    "    model.compile(optimizer=optimizer, loss=\"sparse_categorical_crossentropy\", metrics=[\"accuracy\"])\n",
    "    return model.fit(train_generator, validation_data=valid_generator, epochs=epochs, batch_size=batch_size)"
   ]
  },
  {
   "cell_type": "code",
   "execution_count": 16,
   "metadata": {},
   "outputs": [
    {
     "name": "stdout",
     "output_type": "stream",
     "text": [
      "Epoch 1/10\n",
      "309/309 [==============================] - 620s 2s/step - loss: 2.3175 - accuracy: 0.1816 - val_loss: 1.9885 - val_accuracy: 0.3146\n",
      "Epoch 2/10\n",
      "309/309 [==============================] - 414s 1s/step - loss: 1.8887 - accuracy: 0.3347 - val_loss: 1.5392 - val_accuracy: 0.5271\n",
      "Epoch 3/10\n",
      "309/309 [==============================] - 411s 1s/step - loss: 1.6352 - accuracy: 0.4478 - val_loss: 1.2779 - val_accuracy: 0.6236\n",
      "Epoch 4/10\n",
      "309/309 [==============================] - 414s 1s/step - loss: 1.4618 - accuracy: 0.5185 - val_loss: 1.1910 - val_accuracy: 0.6525\n",
      "Epoch 5/10\n",
      "113/309 [=========>....................] - ETA: 3:15 - loss: 1.3689 - accuracy: 0.5604"
     ]
    }
   ],
   "source": [
    "model= trainModel(model, 10, \"Adam\")"
   ]
  }
 ],
 "metadata": {
  "kernelspec": {
   "display_name": "Python 3",
   "language": "python",
   "name": "python3"
  },
  "language_info": {
   "codemirror_mode": {
    "name": "ipython",
    "version": 3
   },
   "file_extension": ".py",
   "mimetype": "text/x-python",
   "name": "python",
   "nbconvert_exporter": "python",
   "pygments_lexer": "ipython3",
   "version": "3.11.6"
  },
  "orig_nbformat": 4
 },
 "nbformat": 4,
 "nbformat_minor": 2
}
