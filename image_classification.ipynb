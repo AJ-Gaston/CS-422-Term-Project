{
 "cells": [
  {
   "cell_type": "code",
   "execution_count": null,
   "metadata": {},
   "outputs": [],
   "source": [
    "import numpy as np\n",
    "from glob import glob\n",
    "\n",
    "#We're using function from image_recognition to process photos\n",
    "# from image_recognition import\n",
    "\n",
    "#This is where the classification and categorization of images will occur\n",
    "data_dir = 'Dataset'\n",
    "train = 'Dataset/training'\n",
    "test = 'Dataset/evaluation'\n",
    "valid = 'Dataset/validation'\n",
    "label_names = ['Bread', 'Dairy Product', 'Dessert', 'Egg', 'Fried Food', 'Meat', 'Noodles-Pasta', 'Rice',\n",
    "               'Seafood', 'Soup', 'Vegetable-Fruit']\n",
    "\n",
    "training_files = glob('Dataset/training/*/*.jpg')\n",
    "training_set_size = [50,100, 250, 500, 1000, 5000, 9000]\n",
    "\n",
    "type(training_files)\n",
    "\n",
    "#This will split the training set into different sizes\n",
    "def split_training_size(train, size):\n",
    "    new_training_set = []\n",
    "    \n",
    "    return new_training_set\n"
   ]
  },
  {
   "cell_type": "code",
   "execution_count": 25,
   "metadata": {},
   "outputs": [
    {
     "name": "stdout",
     "output_type": "stream",
     "text": [
      "Found 9866 images belonging to 11 classes.\n",
      "Found 3430 images belonging to 11 classes.\n"
     ]
    }
   ],
   "source": [
    "import os\n",
    "# tensorflow\n",
    "import tensorflow.keras as keras\n",
    "import tensorflow as tf\n",
    "\n",
    "# image processing\n",
    "from tensorflow.keras.preprocessing import image\n",
    "from tensorflow.keras.preprocessing.image import ImageDataGenerator, load_img\n",
    "\n",
    "# model / neural network\n",
    "from tensorflow.keras import layers\n",
    "from tensorflow.keras.models import Sequential, Model\n",
    "from tensorflow.keras.applications import ResNet50\n",
    "from tensorflow.keras.applications.resnet50 import preprocess_input\n",
    "\n",
    "datagen = ImageDataGenerator()\n",
    "train_generator = datagen.flow_from_directory( \n",
    "    directory=train, \n",
    "    classes = label_names,\n",
    "    target_size=(512, 512),  \n",
    "    batch_size=50, \n",
    "    class_mode=\"binary\", \n",
    ")\n",
    "# validation data\n",
    "valid_generator = datagen.flow_from_directory( \n",
    "    directory=valid, \n",
    "    classes = label_names,\n",
    "    target_size=(512, 512), \n",
    "    batch_size=50, \n",
    "    class_mode=\"binary\", \n",
    "    shuffle = True\n",
    ")\n",
    "\n",
    "    # build the entire model\n",
    "    # Code taken from \n",
    "    # https://github.com/ovh/ai-training-examples/blob/main/notebooks/computer-vision/image-classification/tensorflow/resnet50/notebook-resnet-transfer-learning-image-classification.ipynb\n",
    "    # Created by eleapttn\n",
    "def model_creation():\n",
    "    resnet_50 = ResNet50(include_top=False, weights='imagenet', input_shape=(224,224,3))\n",
    "    for layer in resnet_50.layers:\n",
    "        layer.trainable = False\n",
    "    x = resnet_50.output\n",
    "    x = layers.GlobalAveragePooling2D()(x)\n",
    "    x = layers.Dense(512, activation='relu')(x) \n",
    "    x = layers.Dropout(0.5)(x)\n",
    "    x = layers.Dense(256, activation='relu')(x) \n",
    "    x = layers.Dropout(0.5)(x)\n",
    "    x = layers.Dense(128, activation='relu')(x) \n",
    "    x = layers.Dropout(0.5)(x)\n",
    "    x = layers.Dense(64, activation='relu')(x) \n",
    "    x = layers.Dropout(0.5)(x)\n",
    "    predictions = layers.Dense(11, activation='softmax')(x)\n",
    "    return (Model(inputs = resnet_50.input, outputs = predictions))\n",
    "\n",
    "# define training function\n",
    "    # Code taken from \n",
    "    # https://github.com/ovh/ai-training-examples/blob/main/notebooks/computer-vision/image-classification/tensorflow/resnet50/notebook-resnet-transfer-learning-image-classification.ipynb\n",
    "    # Created by eleapttn\n",
    "def trainModel(model, passes, optimizer):\n",
    "    batch_size = 32\n",
    "    model.compile(optimizer=optimizer, loss=\"sparse_categorical_crossentropy\", metrics=[\"accuracy\"])\n",
    "    return model.fit(train_generator, validation_data=valid_generator, epochs=passes, batch_size=batch_size)"
   ]
  },
  {
   "cell_type": "code",
   "execution_count": 26,
   "metadata": {},
   "outputs": [
    {
     "ename": "AttributeError",
     "evalue": "'NoneType' object has no attribute 'compile'",
     "output_type": "error",
     "traceback": [
      "\u001b[1;31m---------------------------------------------------------------------------\u001b[0m",
      "\u001b[1;31mAttributeError\u001b[0m                            Traceback (most recent call last)",
      "\u001b[1;32me:\\Programs\\CS-422-Term-Project\\image_classification.ipynb Cell 3\u001b[0m line \u001b[0;36m2\n\u001b[0;32m      <a href='vscode-notebook-cell:/e%3A/Programs/CS-422-Term-Project/image_classification.ipynb#X12sZmlsZQ%3D%3D?line=0'>1</a>\u001b[0m model \u001b[39m=\u001b[39m model_creation()\n\u001b[1;32m----> <a href='vscode-notebook-cell:/e%3A/Programs/CS-422-Term-Project/image_classification.ipynb#X12sZmlsZQ%3D%3D?line=1'>2</a>\u001b[0m model_history \u001b[39m=\u001b[39m trainModel(model, \u001b[39m10\u001b[39;49m, \u001b[39m\"\u001b[39;49m\u001b[39mAdam\u001b[39;49m\u001b[39m\"\u001b[39;49m)\n",
      "\u001b[1;32me:\\Programs\\CS-422-Term-Project\\image_classification.ipynb Cell 3\u001b[0m line \u001b[0;36m6\n\u001b[0;32m     <a href='vscode-notebook-cell:/e%3A/Programs/CS-422-Term-Project/image_classification.ipynb#X12sZmlsZQ%3D%3D?line=58'>59</a>\u001b[0m \u001b[39mdef\u001b[39;00m \u001b[39mtrainModel\u001b[39m(model, passes, optimizer):\n\u001b[0;32m     <a href='vscode-notebook-cell:/e%3A/Programs/CS-422-Term-Project/image_classification.ipynb#X12sZmlsZQ%3D%3D?line=59'>60</a>\u001b[0m     batch_size \u001b[39m=\u001b[39m \u001b[39m32\u001b[39m\n\u001b[1;32m---> <a href='vscode-notebook-cell:/e%3A/Programs/CS-422-Term-Project/image_classification.ipynb#X12sZmlsZQ%3D%3D?line=60'>61</a>\u001b[0m     model\u001b[39m.\u001b[39;49mcompile(optimizer\u001b[39m=\u001b[39moptimizer, loss\u001b[39m=\u001b[39m\u001b[39m\"\u001b[39m\u001b[39msparse_categorical_crossentropy\u001b[39m\u001b[39m\"\u001b[39m, metrics\u001b[39m=\u001b[39m[\u001b[39m\"\u001b[39m\u001b[39maccuracy\u001b[39m\u001b[39m\"\u001b[39m])\n\u001b[0;32m     <a href='vscode-notebook-cell:/e%3A/Programs/CS-422-Term-Project/image_classification.ipynb#X12sZmlsZQ%3D%3D?line=61'>62</a>\u001b[0m     \u001b[39mreturn\u001b[39;00m model\u001b[39m.\u001b[39mfit(train_generator, validation_data\u001b[39m=\u001b[39mvalid_generator, epochs\u001b[39m=\u001b[39mpasses, batch_size\u001b[39m=\u001b[39mbatch_size)\n",
      "\u001b[1;31mAttributeError\u001b[0m: 'NoneType' object has no attribute 'compile'"
     ]
    }
   ],
   "source": [
    "model = model_creation()\n",
    "model_history = trainModel(model, 10, \"Adam\")"
   ]
  },
  {
   "cell_type": "code",
   "execution_count": 22,
   "metadata": {},
   "outputs": [
    {
     "name": "stdout",
     "output_type": "stream",
     "text": [
      "Found 3347 images belonging to 11 classes.\n",
      "[ 0  0  0 ... 10 10 10]\n"
     ]
    },
    {
     "ename": "AttributeError",
     "evalue": "'NoneType' object has no attribute 'predict'",
     "output_type": "error",
     "traceback": [
      "\u001b[1;31m---------------------------------------------------------------------------\u001b[0m",
      "\u001b[1;31mAttributeError\u001b[0m                            Traceback (most recent call last)",
      "\u001b[1;32me:\\Programs\\CS-422-Term-Project\\image_classification.ipynb Cell 4\u001b[0m line \u001b[0;36m2\n\u001b[0;32m     <a href='vscode-notebook-cell:/e%3A/Programs/CS-422-Term-Project/image_classification.ipynb#W6sZmlsZQ%3D%3D?line=22'>23</a>\u001b[0m testing_Accuracy \u001b[39m=\u001b[39m []\n\u001b[0;32m     <a href='vscode-notebook-cell:/e%3A/Programs/CS-422-Term-Project/image_classification.ipynb#W6sZmlsZQ%3D%3D?line=23'>24</a>\u001b[0m \u001b[39m#for set in training_sets:\u001b[39;00m\n\u001b[0;32m     <a href='vscode-notebook-cell:/e%3A/Programs/CS-422-Term-Project/image_classification.ipynb#W6sZmlsZQ%3D%3D?line=24'>25</a>\u001b[0m \u001b[39m#model = model_creation()\u001b[39;00m\n\u001b[0;32m     <a href='vscode-notebook-cell:/e%3A/Programs/CS-422-Term-Project/image_classification.ipynb#W6sZmlsZQ%3D%3D?line=25'>26</a>\u001b[0m \u001b[39m#model_history = trainModel(model, passes=10, optimizer=\"Adam\")\u001b[39;00m\n\u001b[1;32m---> <a href='vscode-notebook-cell:/e%3A/Programs/CS-422-Term-Project/image_classification.ipynb#W6sZmlsZQ%3D%3D?line=26'>27</a>\u001b[0m predictions \u001b[39m=\u001b[39m model\u001b[39m.\u001b[39;49mpredict(test_data)\n\u001b[0;32m     <a href='vscode-notebook-cell:/e%3A/Programs/CS-422-Term-Project/image_classification.ipynb#W6sZmlsZQ%3D%3D?line=27'>28</a>\u001b[0m class_ids \u001b[39m=\u001b[39m np\u001b[39m.\u001b[39margmax(predictions, axis\u001b[39m=\u001b[39m\u001b[39m1\u001b[39m)\n\u001b[0;32m     <a href='vscode-notebook-cell:/e%3A/Programs/CS-422-Term-Project/image_classification.ipynb#W6sZmlsZQ%3D%3D?line=28'>29</a>\u001b[0m find_accuracy(test_class, class_ids)\n",
      "\u001b[1;31mAttributeError\u001b[0m: 'NoneType' object has no attribute 'predict'"
     ]
    }
   ],
   "source": [
    "test_data = datagen.flow_from_directory( \n",
    "    directory=test, \n",
    "    classes = label_names,\n",
    "    target_size=(224, 224), \n",
    "    batch_size=32, \n",
    "    class_mode=\"binary\",\n",
    "    shuffle=False\n",
    ")\n",
    "\n",
    "\n",
    "def find_accuracy(labels, predictions):\n",
    "    sum = 0\n",
    "    for i in range(len(labels)):\n",
    "        if labels[i]==predictions[i]:\n",
    "            sum +=1\n",
    "    return sum/len(labels)\n",
    "\n",
    "\n",
    "test_class = test_data.labels\n",
    "print(test_class)\n",
    "training_Accuracy = []\n",
    "validation_Accuracy = []\n",
    "testing_Accuracy = []\n",
    "for set in training_sets:\n",
    "    model = model_creation()\n",
    "    model_history = trainModel(model, passes=10, optimizer=\"Adam\")\n",
    "    predictions = model.predict(test_data)\n",
    "    class_ids = np.argmax(predictions, axis=1)\n",
    "    training_Accuracy.append(find_accuracy(test_class, class_ids))\n",
    "    validation_Accuracy.append(model_history.)\n",
    "    "
   ]
  }
 ],
 "metadata": {
  "kernelspec": {
   "display_name": "Python 3 (ipykernel)",
   "language": "python",
   "name": "python3"
  },
  "language_info": {
   "codemirror_mode": {
    "name": "ipython",
    "version": 3
   },
   "file_extension": ".py",
   "mimetype": "text/x-python",
   "name": "python",
   "nbconvert_exporter": "python",
   "pygments_lexer": "ipython3",
   "version": "3.9.6"
  }
 },
 "nbformat": 4,
 "nbformat_minor": 2
}
