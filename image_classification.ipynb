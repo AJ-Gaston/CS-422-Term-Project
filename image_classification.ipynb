{
 "cells": [
  {
   "cell_type": "code",
   "execution_count": null,
   "metadata": {},
   "outputs": [],
   "source": [
    "import numpy as np\n",
    "import cv2\n",
    "from sklearn.linear_model import LinearRegression\n",
    "\n",
    "#This is where the classification and categorization of images will occur\n",
    "data_dir = 'Dataset'\n",
    "label_names = ['Bread', 'Dairy Product', 'Dessert', 'Egg', 'Fried Food', 'Meat', 'Noodles-Pasta', 'Rice',\n",
    "               'Seafood', 'Soup', 'Vegetable-Fruit']\n"
   ]
  },
  {
   "cell_type": "code",
   "execution_count": null,
   "metadata": {},
   "outputs": [],
   "source": [
    "def train_one_vs_all(X, y, num_classes, lambda_val):\n",
    "    '''\n",
    "    Train a one vs. all logistic regression\n",
    "    \n",
    "    Inputs: \n",
    "      X                data matrix (2d array shape m x n)\n",
    "      y                label vector with entries from 0 to \n",
    "                       num_classes - 1 (1d array length m)\n",
    "      num_classes      number of classes (integer)\n",
    "      lambda_val       regularization parameter (scalar)\n",
    "\n",
    "    Outputs:\n",
    "      weight_vectors   matrix of weight vectors for each class \n",
    "                       weight vector for class c in the cth column\n",
    "                       (2d array shape n x num_classes)\n",
    "      intercepts       vector of intercepts for all classes\n",
    "                       (1d array length num_classes)                       \n",
    "            \n",
    "    '''\n",
    "    #Hint: you may find the vector comparison y == i helpful!\n",
    "    #Y is gonna be some length (between 0-9), so for each class build a new list and go through each possible number.\n",
    "    #Go through the Y list, compare it to the current number and if it matches then make it 1 (if not then a 0). Shove that new number into a new list (that's the same size of Y, but conly composed of 1s and 0s)\n",
    "    weight_vectors = []\n",
    "    intercepts = []\n",
    "    for i in range(len(label_names)):\n",
    "    "
   ]
  },
  {
   "cell_type": "code",
   "execution_count": null,
   "metadata": {},
   "outputs": [],
   "source": [
    "def predict_one_vs_all(X, weight_vectors, intercepts):\n",
    "    predictions = []\n",
    "    return predictions"
   ]
  },
  {
   "cell_type": "code",
   "execution_count": null,
   "metadata": {},
   "outputs": [],
   "source": [
    "def train_logistic_regression(X, y, lambda_val):\n",
    "    "
   ]
  }
 ],
 "metadata": {
  "language_info": {
   "name": "python"
  },
  "orig_nbformat": 4
 },
 "nbformat": 4,
 "nbformat_minor": 2
}
