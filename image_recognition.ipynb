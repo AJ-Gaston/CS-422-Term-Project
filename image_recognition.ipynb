{
 "cells": [
  {
   "cell_type": "code",
   "execution_count": null,
   "metadata": {},
   "outputs": [],
   "source": [
    "import matplotlib.pyplot as plt\n",
    "import numpy as np\n",
    "import cv2\n",
    "import glob\n",
    "from tensorflow.keras import datasets\n",
    "\n",
    "# data set courtesy of https://labelbox.com\n",
    "# Specifically: https://app.labelbox.com/catalog/dataset/clbwmz2ji10z608xp8jk5blf2?search.query=NoXSA&search.sorting=NobwRAZglgpgNgEzALnNeTlgQQwC44BKA9gO4DCATjPjAgIJ5gA0YAbjJQEbEDOMAORwBbGCjBUaeOgAJGYAL6sEUagGM8UYgDtxAEQCiAZXIswogrgJG1ACxjCcASUzaArnDgKAukA\n",
    "\n",
    "image_size = (256,256)\n",
    "\n",
    "def image_process():\n",
    "    return\n"
   ]
  }
 ],
 "metadata": {
  "language_info": {
   "name": "python"
  },
  "orig_nbformat": 4
 },
 "nbformat": 4,
 "nbformat_minor": 2
}
